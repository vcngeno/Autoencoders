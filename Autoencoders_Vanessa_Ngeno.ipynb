{
  "nbformat": 4,
  "nbformat_minor": 0,
  "metadata": {
    "colab": {
      "provenance": [],
      "authorship_tag": "ABX9TyMajAxZweDlwDs4G91DhJnT",
      "include_colab_link": true
    },
    "kernelspec": {
      "name": "python3",
      "display_name": "Python 3"
    },
    "language_info": {
      "name": "python"
    }
  },
  "cells": [
    {
      "cell_type": "markdown",
      "metadata": {
        "id": "view-in-github",
        "colab_type": "text"
      },
      "source": [
        "<a href=\"https://colab.research.google.com/github/vcngeno/Autoencoders/blob/main/Autoencoders_Vanessa_Ngeno.ipynb\" target=\"_parent\"><img src=\"https://colab.research.google.com/assets/colab-badge.svg\" alt=\"Open In Colab\"/></a>"
      ]
    },
    {
      "cell_type": "markdown",
      "source": [
        "#Step 1: Data Preprocessing"
      ],
      "metadata": {
        "id": "NYHSG3o2rbxP"
      }
    },
    {
      "cell_type": "markdown",
      "source": [
        "## Import necessary libraries"
      ],
      "metadata": {
        "id": "U0gJEuPSu5FJ"
      }
    },
    {
      "cell_type": "code",
      "source": [
        "import pandas as pd\n",
        "import numpy as np\n",
        "from sklearn.preprocessing import MinMaxScaler, LabelEncoder\n",
        "from sklearn.model_selection import train_test_split\n",
        "import tensorflow as tf\n",
        "from tensorflow.keras import layers, models\n",
        "import matplotlib.pyplot as plt"
      ],
      "metadata": {
        "id": "aBif0Bkcmd5J"
      },
      "execution_count": null,
      "outputs": []
    },
    {
      "cell_type": "markdown",
      "source": [
        "## Set Random Seed for Reproducibility"
      ],
      "metadata": {
        "id": "yAKCXivMrjM4"
      }
    },
    {
      "cell_type": "code",
      "source": [
        "# Set random seed for reproducibility\n",
        "np.random.seed(42)\n",
        "tf.random.set_seed(42)"
      ],
      "metadata": {
        "id": "Pb7VJfdmmioy"
      },
      "execution_count": null,
      "outputs": []
    },
    {
      "cell_type": "markdown",
      "source": [
        "Here, consistent random splits and weight initialization are crucial for debugging and comparing model performance."
      ],
      "metadata": {
        "id": "ovwSq0gMrrjw"
      }
    },
    {
      "cell_type": "markdown",
      "source": [
        "## Load the Dataset"
      ],
      "metadata": {
        "id": "3FPFDT7PrxMA"
      }
    },
    {
      "cell_type": "code",
      "source": [
        "# Load the dataset (replace with your file path)\n",
        "data = pd.read_csv('/content/OP_DTL_OWNRSHP_PGYR2023_P01302025_01212025 5.csv')"
      ],
      "metadata": {
        "id": "8h9qrsffml2k"
      },
      "execution_count": null,
      "outputs": []
    },
    {
      "cell_type": "markdown",
      "source": [
        "## Select Relevant Columns"
      ],
      "metadata": {
        "id": "rRXcU1soogQx"
      }
    },
    {
      "cell_type": "code",
      "source": [
        "numerical_cols = ['Total_Amount_Invested_USDollars', 'Value_of_Interest']\n",
        "categorical_cols = ['Physician_Specialty', 'Terms_of_Interest',\n",
        "                    'Interest_Held_by_Physician_or_an_Immediate_Family_Member',\n",
        "                    'Recipient_State', 'Dispute_Status_for_Publication']"
      ],
      "metadata": {
        "id": "nlYtEumKmrZ3"
      },
      "execution_count": null,
      "outputs": []
    },
    {
      "cell_type": "code",
      "source": [
        "df = data[numerical_cols + categorical_cols + ['Physician_First_Name', 'Physician_Last_Name', 'Record_ID']]"
      ],
      "metadata": {
        "id": "6yS6VNFbmwi8"
      },
      "execution_count": null,
      "outputs": []
    },
    {
      "cell_type": "markdown",
      "source": [
        "Focuses the analysis on features likely to indicate anomalies (e.g., unusual investments) while retaining identifiers for interpreting results."
      ],
      "metadata": {
        "id": "NexO7hB1sBHc"
      }
    },
    {
      "cell_type": "markdown",
      "source": [
        "## Handle missing values"
      ],
      "metadata": {
        "id": "GYk9AJoTodWC"
      }
    },
    {
      "cell_type": "code",
      "source": [
        "# Impute numerical features with mean\n",
        "for col in numerical_cols:\n",
        "    df[col] = df[col].fillna(df[col].mean())\n",
        "\n",
        "# Impute categorical features with a placeholder\n",
        "for col in categorical_cols:\n",
        "    df[col] = df[col].fillna('Unknown')"
      ],
      "metadata": {
        "colab": {
          "base_uri": "https://localhost:8080/"
        },
        "collapsed": true,
        "id": "rpHBCUBFoaP4",
        "outputId": "2f3ce6f4-0c67-49a3-807a-e43d4afd3433"
      },
      "execution_count": null,
      "outputs": [
        {
          "output_type": "stream",
          "name": "stderr",
          "text": [
            "<ipython-input-6-37c0d4fd9bc3>:3: SettingWithCopyWarning: \n",
            "A value is trying to be set on a copy of a slice from a DataFrame.\n",
            "Try using .loc[row_indexer,col_indexer] = value instead\n",
            "\n",
            "See the caveats in the documentation: https://pandas.pydata.org/pandas-docs/stable/user_guide/indexing.html#returning-a-view-versus-a-copy\n",
            "  df[col] = df[col].fillna(df[col].mean())\n",
            "<ipython-input-6-37c0d4fd9bc3>:7: SettingWithCopyWarning: \n",
            "A value is trying to be set on a copy of a slice from a DataFrame.\n",
            "Try using .loc[row_indexer,col_indexer] = value instead\n",
            "\n",
            "See the caveats in the documentation: https://pandas.pydata.org/pandas-docs/stable/user_guide/indexing.html#returning-a-view-versus-a-copy\n",
            "  df[col] = df[col].fillna('Unknown')\n"
          ]
        }
      ]
    },
    {
      "cell_type": "markdown",
      "source": [
        "Impute missing values in numerical columns with their mean to preserve central tendency, and in categorical columns with \"Unknown\" to prepare for encoding.\n",
        "\n",
        "This ensures the dataset is clean (no NaN values), which is required for autoencoder training, as emphasized by the Medium article."
      ],
      "metadata": {
        "id": "_Xkum6y9sJfL"
      }
    },
    {
      "cell_type": "markdown",
      "source": [
        "# Step 2: Feature Engineering"
      ],
      "metadata": {
        "id": "_GbysRSQow3k"
      }
    },
    {
      "cell_type": "code",
      "source": [
        "df['Investment_to_Value_Ratio'] = df['Value_of_Interest'] / (df['Total_Amount_Invested_USDollars'] + 1e-6)\n",
        "df['Log_Total_Amount_Invested'] = np.log1p(df['Total_Amount_Invested_USDollars'])\n",
        "df['Log_Value_of_Interest'] = np.log1p(df['Value_of_Interest'])\n",
        "df['Is_Zero_Investment'] = (df['Total_Amount_Invested_USDollars'] == 0).astype(int)\n",
        "value_threshold = df['Value_of_Interest'].quantile(0.9)\n",
        "df['High_Value_Interest'] = (df['Value_of_Interest'] > value_threshold).astype(int)"
      ],
      "metadata": {
        "colab": {
          "base_uri": "https://localhost:8080/"
        },
        "collapsed": true,
        "id": "nM0JaWMooyel",
        "outputId": "737ad077-b749-40d9-bfa0-f7927364b2b2"
      },
      "execution_count": null,
      "outputs": [
        {
          "output_type": "stream",
          "name": "stderr",
          "text": [
            "<ipython-input-9-ccebae08e924>:1: SettingWithCopyWarning: \n",
            "A value is trying to be set on a copy of a slice from a DataFrame.\n",
            "Try using .loc[row_indexer,col_indexer] = value instead\n",
            "\n",
            "See the caveats in the documentation: https://pandas.pydata.org/pandas-docs/stable/user_guide/indexing.html#returning-a-view-versus-a-copy\n",
            "  df['Investment_to_Value_Ratio'] = df['Value_of_Interest'] / (df['Total_Amount_Invested_USDollars'] + 1e-6)\n",
            "<ipython-input-9-ccebae08e924>:2: SettingWithCopyWarning: \n",
            "A value is trying to be set on a copy of a slice from a DataFrame.\n",
            "Try using .loc[row_indexer,col_indexer] = value instead\n",
            "\n",
            "See the caveats in the documentation: https://pandas.pydata.org/pandas-docs/stable/user_guide/indexing.html#returning-a-view-versus-a-copy\n",
            "  df['Log_Total_Amount_Invested'] = np.log1p(df['Total_Amount_Invested_USDollars'])\n",
            "<ipython-input-9-ccebae08e924>:3: SettingWithCopyWarning: \n",
            "A value is trying to be set on a copy of a slice from a DataFrame.\n",
            "Try using .loc[row_indexer,col_indexer] = value instead\n",
            "\n",
            "See the caveats in the documentation: https://pandas.pydata.org/pandas-docs/stable/user_guide/indexing.html#returning-a-view-versus-a-copy\n",
            "  df['Log_Value_of_Interest'] = np.log1p(df['Value_of_Interest'])\n",
            "<ipython-input-9-ccebae08e924>:4: SettingWithCopyWarning: \n",
            "A value is trying to be set on a copy of a slice from a DataFrame.\n",
            "Try using .loc[row_indexer,col_indexer] = value instead\n",
            "\n",
            "See the caveats in the documentation: https://pandas.pydata.org/pandas-docs/stable/user_guide/indexing.html#returning-a-view-versus-a-copy\n",
            "  df['Is_Zero_Investment'] = (df['Total_Amount_Invested_USDollars'] == 0).astype(int)\n",
            "<ipython-input-9-ccebae08e924>:6: SettingWithCopyWarning: \n",
            "A value is trying to be set on a copy of a slice from a DataFrame.\n",
            "Try using .loc[row_indexer,col_indexer] = value instead\n",
            "\n",
            "See the caveats in the documentation: https://pandas.pydata.org/pandas-docs/stable/user_guide/indexing.html#returning-a-view-versus-a-copy\n",
            "  df['High_Value_Interest'] = (df['Value_of_Interest'] > value_threshold).astype(int)\n"
          ]
        }
      ]
    },
    {
      "cell_type": "code",
      "source": [
        "# Categorical Features\n",
        "df_specialty = pd.get_dummies(df['Physician_Specialty'], prefix='Specialty', dtype=int)\n",
        "df_interest_holder = pd.get_dummies(df['Interest_Held_by_Physician_or_an_Immediate_Family_Member'], prefix='Holder', dtype=int)\n",
        "df_state = pd.get_dummies(df['Recipient_State'], prefix='State', dtype=int)"
      ],
      "metadata": {
        "id": "ZCiXeM3-xhrb"
      },
      "execution_count": null,
      "outputs": []
    },
    {
      "cell_type": "code",
      "source": [
        "# Debug: Verify that Terms_of_Interest exists before encoding\n",
        "if 'Terms_of_Interest' not in df.columns:\n",
        "    raise ValueError(\"Column 'Terms_of_Interest' not found in DataFrame. Check dataset column names.\")"
      ],
      "metadata": {
        "id": "XJcHjzbUxmoH"
      },
      "execution_count": null,
      "outputs": []
    },
    {
      "cell_type": "code",
      "source": [
        "# Encode Terms_of_Interest\n",
        "df['Terms_of_Interest'] = df['Terms_of_Interest'].astype(str)\n",
        "le = LabelEncoder()\n",
        "df['Terms_of_Interest_Encoded'] = le.fit_transform(df['Terms_of_Interest'])"
      ],
      "metadata": {
        "colab": {
          "base_uri": "https://localhost:8080/"
        },
        "id": "2Rbcb91UxqMO",
        "outputId": "42411adf-1708-4e13-b778-2233f92886e9"
      },
      "execution_count": null,
      "outputs": [
        {
          "output_type": "stream",
          "name": "stderr",
          "text": [
            "<ipython-input-12-d0d036bbad12>:2: SettingWithCopyWarning: \n",
            "A value is trying to be set on a copy of a slice from a DataFrame.\n",
            "Try using .loc[row_indexer,col_indexer] = value instead\n",
            "\n",
            "See the caveats in the documentation: https://pandas.pydata.org/pandas-docs/stable/user_guide/indexing.html#returning-a-view-versus-a-copy\n",
            "  df['Terms_of_Interest'] = df['Terms_of_Interest'].astype(str)\n",
            "<ipython-input-12-d0d036bbad12>:4: SettingWithCopyWarning: \n",
            "A value is trying to be set on a copy of a slice from a DataFrame.\n",
            "Try using .loc[row_indexer,col_indexer] = value instead\n",
            "\n",
            "See the caveats in the documentation: https://pandas.pydata.org/pandas-docs/stable/user_guide/indexing.html#returning-a-view-versus-a-copy\n",
            "  df['Terms_of_Interest_Encoded'] = le.fit_transform(df['Terms_of_Interest'])\n"
          ]
        }
      ]
    },
    {
      "cell_type": "code",
      "source": [
        "# Binary encoding for Dispute_Status_for_Publication\n",
        "def map_dispute_status(x):\n",
        "    if pd.isna(x) or x == 'Unknown':\n",
        "        return 0\n",
        "    return 1 if str(x).lower() == 'yes' else 0\n",
        "\n",
        "df['Dispute_Status_for_Publication'] = df['Dispute_Status_for_Publication'].apply(map_dispute_status)\n",
        "\n",
        "# Debug: Check columns in df before concatenation\n",
        "print(\"Columns in df before concatenation:\", df.columns.tolist())"
      ],
      "metadata": {
        "colab": {
          "base_uri": "https://localhost:8080/"
        },
        "id": "3CJVwz-gxu0Q",
        "outputId": "6ccc0f31-afd4-47ca-d4bb-4411ba05548a"
      },
      "execution_count": null,
      "outputs": [
        {
          "output_type": "stream",
          "name": "stdout",
          "text": [
            "Columns in df before concatenation: ['Total_Amount_Invested_USDollars', 'Value_of_Interest', 'Physician_Specialty', 'Terms_of_Interest', 'Interest_Held_by_Physician_or_an_Immediate_Family_Member', 'Recipient_State', 'Dispute_Status_for_Publication', 'Physician_First_Name', 'Physician_Last_Name', 'Record_ID', 'Investment_to_Value_Ratio', 'Log_Total_Amount_Invested', 'Log_Value_of_Interest', 'Is_Zero_Investment', 'High_Value_Interest', 'Terms_of_Interest_Encoded']\n"
          ]
        },
        {
          "output_type": "stream",
          "name": "stderr",
          "text": [
            "<ipython-input-13-9b499b145a84>:7: SettingWithCopyWarning: \n",
            "A value is trying to be set on a copy of a slice from a DataFrame.\n",
            "Try using .loc[row_indexer,col_indexer] = value instead\n",
            "\n",
            "See the caveats in the documentation: https://pandas.pydata.org/pandas-docs/stable/user_guide/indexing.html#returning-a-view-versus-a-copy\n",
            "  df['Dispute_Status_for_Publication'] = df['Dispute_Status_for_Publication'].apply(map_dispute_status)\n"
          ]
        }
      ]
    },
    {
      "cell_type": "markdown",
      "source": [
        "Feature Engineering for Numerical Variables: Purpose is to create new numerical features to capture relationships and patterns. This enhances the feature set with derived features that might highlight anomalies (e.g., high value with zero investment)\n",
        "\n",
        "One-Hot Encosing for Categorical Variables: Purpose is to encode the categorical features for numerical processing. It converts categorical data into a numerical format suitable for the autoencoder, capturing patterns like specialty-specific anomalies."
      ],
      "metadata": {
        "id": "s4U2RBiXsoL1"
      }
    },
    {
      "cell_type": "markdown",
      "source": [
        "## Combine Features"
      ],
      "metadata": {
        "id": "Xabt2sGTtMjk"
      }
    },
    {
      "cell_type": "code",
      "source": [
        "# Combine features\n",
        "df_processed = pd.concat([\n",
        "    df[['Log_Total_Amount_Invested', 'Log_Value_of_Interest', 'Investment_to_Value_Ratio',\n",
        "        'Is_Zero_Investment', 'High_Value_Interest', 'Terms_of_Interest_Encoded',\n",
        "        'Dispute_Status_for_Publication']],\n",
        "    df_specialty, df_interest_holder, df_state\n",
        "], axis=1)"
      ],
      "metadata": {
        "id": "j06AiAA4pI53"
      },
      "execution_count": null,
      "outputs": []
    },
    {
      "cell_type": "markdown",
      "source": [
        "Combine all processed numerical and encoded categorical features into a single DataFrame to Creates the final feature matrix for modeling, ensuring all features are included."
      ],
      "metadata": {
        "id": "dpmSTE0ruADW"
      }
    },
    {
      "cell_type": "markdown",
      "source": [
        "## Handle inf/-inf Values"
      ],
      "metadata": {
        "id": "Mk8eFieSuIU-"
      }
    },
    {
      "cell_type": "code",
      "source": [
        "# Replace inf/-inf with NaN, then fill with 0\n",
        "df_processed.replace([np.inf, -np.inf], np.nan, inplace=True)\n",
        "df_processed.fillna(0, inplace=True)"
      ],
      "metadata": {
        "id": "F11bVMb0pOXm"
      },
      "execution_count": null,
      "outputs": []
    },
    {
      "cell_type": "markdown",
      "source": [
        "Replace inf/-inf values (from Investment_to_Value_Ratio when Total_Amount_Invested_USDollars is near 0) with NaN, then fill with 0.\n",
        "\n",
        "This ensures numerical stability for autoencoder training by removing invalid values, as required for neural networks."
      ],
      "metadata": {
        "id": "kffvExL9uNZe"
      }
    },
    {
      "cell_type": "markdown",
      "source": [
        "## Scale Features"
      ],
      "metadata": {
        "id": "CkzkXPaIuT7T"
      }
    },
    {
      "cell_type": "code",
      "source": [
        "# Separate scaling for different feature types\n",
        "scaler_num = MinMaxScaler()\n",
        "numerical_features = ['Log_Total_Amount_Invested', 'Log_Value_of_Interest', 'Investment_to_Value_Ratio']\n",
        "df_processed[numerical_features] = scaler_num.fit_transform(df_processed[numerical_features])"
      ],
      "metadata": {
        "id": "lWwvmMakuYPN"
      },
      "execution_count": null,
      "outputs": []
    },
    {
      "cell_type": "code",
      "source": [
        "scaler_terms = MinMaxScaler()\n",
        "df_processed[['Terms_of_Interest_Encoded']] = scaler_terms.fit_transform(df_processed[['Terms_of_Interest_Encoded']])"
      ],
      "metadata": {
        "id": "RWbePEXax8Jb"
      },
      "execution_count": null,
      "outputs": []
    },
    {
      "cell_type": "code",
      "source": [
        "# Binary features are already 0/1\n",
        "binary_features = ['Is_Zero_Investment', 'High_Value_Interest', 'Dispute_Status_for_Publication'] + \\\n",
        "                  list(df_specialty.columns) + list(df_interest_holder.columns) + list(df_state.columns)"
      ],
      "metadata": {
        "id": "17bLjGtVx__n"
      },
      "execution_count": null,
      "outputs": []
    },
    {
      "cell_type": "code",
      "source": [
        "# Convert to float32\n",
        "df_processed = df_processed.astype('float32')\n",
        "X = df_processed.values"
      ],
      "metadata": {
        "id": "Y_lMflu5yCpA"
      },
      "execution_count": null,
      "outputs": []
    },
    {
      "cell_type": "code",
      "source": [
        "# Verify data range\n",
        "print(\"Min and Max of X before training:\", X.min(), X.max())"
      ],
      "metadata": {
        "colab": {
          "base_uri": "https://localhost:8080/"
        },
        "id": "nVBg-LelyFU3",
        "outputId": "29110ee3-96e6-4997-ed13-a224a0ace3b2"
      },
      "execution_count": null,
      "outputs": [
        {
          "output_type": "stream",
          "name": "stdout",
          "text": [
            "Min and Max of X before training: 0.0 1.0\n"
          ]
        }
      ]
    },
    {
      "cell_type": "markdown",
      "source": [
        "# Step 3: Autoencoder Modeling"
      ],
      "metadata": {
        "id": "huT-sBqqqc0Q"
      }
    },
    {
      "cell_type": "markdown",
      "source": [
        "##  Split Data"
      ],
      "metadata": {
        "id": "48jok8Yduhky"
      }
    },
    {
      "cell_type": "code",
      "source": [
        "X_train, X_val = train_test_split(X, test_size=0.2, random_state=42)"
      ],
      "metadata": {
        "id": "Zc3QpnE0ujrT"
      },
      "execution_count": null,
      "outputs": []
    },
    {
      "cell_type": "markdown",
      "source": [
        "Split the data into training (80%) and validation (20%) sets.\n",
        "\n",
        "This allows monitoring of model performance on unseen data during training, preventing overfitting."
      ],
      "metadata": {
        "id": "Fe0T5snAuoLH"
      }
    },
    {
      "cell_type": "markdown",
      "source": [
        "## Define Autoencoder Model"
      ],
      "metadata": {
        "id": "cWS6KHKJvkvI"
      }
    },
    {
      "cell_type": "code",
      "source": [
        "# Define autoencoder with dropout\n",
        "input_dim = X.shape[1]\n",
        "encoding_dim = 16\n",
        "\n",
        "autoencoder = models.Sequential([\n",
        "    layers.Input(shape=(input_dim,)),\n",
        "    layers.Dense(64, activation='relu'),\n",
        "    layers.Dropout(0.2),\n",
        "    layers.Dense(32, activation='relu'),\n",
        "    layers.Dropout(0.2),\n",
        "    layers.Dense(encoding_dim, activation='relu'),\n",
        "    layers.Dense(32, activation='relu'),\n",
        "    layers.Dropout(0.2),\n",
        "    layers.Dense(64, activation='relu'),\n",
        "    layers.Dense(input_dim, activation=None)\n",
        "])"
      ],
      "metadata": {
        "id": "CqdPjFu8vnH9"
      },
      "execution_count": null,
      "outputs": []
    },
    {
      "cell_type": "markdown",
      "source": [
        "## Compile and Train the Model"
      ],
      "metadata": {
        "id": "8LKHf2Bivq51"
      }
    },
    {
      "cell_type": "code",
      "source": [
        "# Compile with a lower learning rate\n",
        "autoencoder.compile(optimizer=tf.keras.optimizers.Adam(learning_rate=0.0001), loss='mse')\n",
        "\n",
        "# Add early stopping with refined parameters\n",
        "early_stopping = tf.keras.callbacks.EarlyStopping(\n",
        "    monitor='val_loss',\n",
        "    patience=5,\n",
        "    min_delta=0.0001,\n",
        "    restore_best_weights=True\n",
        ")"
      ],
      "metadata": {
        "id": "3fwTVC4Pvtnr"
      },
      "execution_count": null,
      "outputs": []
    },
    {
      "cell_type": "markdown",
      "source": [
        "## Plot Training History"
      ],
      "metadata": {
        "id": "DrfhAWyXv1dM"
      }
    },
    {
      "cell_type": "code",
      "source": [
        "# Train with early stopping\n",
        "history = autoencoder.fit(X_train, X_train,\n",
        "                         epochs=100,\n",
        "                         batch_size=32,\n",
        "                         validation_data=(X_val, X_val),\n",
        "                         callbacks=[early_stopping],\n",
        "                         verbose=1)"
      ],
      "metadata": {
        "colab": {
          "base_uri": "https://localhost:8080/"
        },
        "id": "gCSxgtovv2VP",
        "outputId": "e65e7778-172c-4037-92e4-3b3d45eaa702"
      },
      "execution_count": null,
      "outputs": [
        {
          "output_type": "stream",
          "name": "stdout",
          "text": [
            "Epoch 1/100\n",
            "\u001b[1m101/101\u001b[0m \u001b[32m━━━━━━━━━━━━━━━━━━━━\u001b[0m\u001b[37m\u001b[0m \u001b[1m4s\u001b[0m 6ms/step - loss: 0.0254 - val_loss: 0.0236\n",
            "Epoch 2/100\n",
            "\u001b[1m101/101\u001b[0m \u001b[32m━━━━━━━━━━━━━━━━━━━━\u001b[0m\u001b[37m\u001b[0m \u001b[1m1s\u001b[0m 5ms/step - loss: 0.0231 - val_loss: 0.0190\n",
            "Epoch 3/100\n",
            "\u001b[1m101/101\u001b[0m \u001b[32m━━━━━━━━━━━━━━━━━━━━\u001b[0m\u001b[37m\u001b[0m \u001b[1m0s\u001b[0m 4ms/step - loss: 0.0184 - val_loss: 0.0143\n",
            "Epoch 4/100\n",
            "\u001b[1m101/101\u001b[0m \u001b[32m━━━━━━━━━━━━━━━━━━━━\u001b[0m\u001b[37m\u001b[0m \u001b[1m0s\u001b[0m 4ms/step - loss: 0.0156 - val_loss: 0.0137\n",
            "Epoch 5/100\n",
            "\u001b[1m101/101\u001b[0m \u001b[32m━━━━━━━━━━━━━━━━━━━━\u001b[0m\u001b[37m\u001b[0m \u001b[1m0s\u001b[0m 4ms/step - loss: 0.0148 - val_loss: 0.0136\n",
            "Epoch 6/100\n",
            "\u001b[1m101/101\u001b[0m \u001b[32m━━━━━━━━━━━━━━━━━━━━\u001b[0m\u001b[37m\u001b[0m \u001b[1m1s\u001b[0m 4ms/step - loss: 0.0145 - val_loss: 0.0135\n",
            "Epoch 7/100\n",
            "\u001b[1m101/101\u001b[0m \u001b[32m━━━━━━━━━━━━━━━━━━━━\u001b[0m\u001b[37m\u001b[0m \u001b[1m1s\u001b[0m 5ms/step - loss: 0.0143 - val_loss: 0.0134\n",
            "Epoch 8/100\n",
            "\u001b[1m101/101\u001b[0m \u001b[32m━━━━━━━━━━━━━━━━━━━━\u001b[0m\u001b[37m\u001b[0m \u001b[1m0s\u001b[0m 4ms/step - loss: 0.0140 - val_loss: 0.0133\n",
            "Epoch 9/100\n",
            "\u001b[1m101/101\u001b[0m \u001b[32m━━━━━━━━━━━━━━━━━━━━\u001b[0m\u001b[37m\u001b[0m \u001b[1m1s\u001b[0m 5ms/step - loss: 0.0139 - val_loss: 0.0131\n",
            "Epoch 10/100\n",
            "\u001b[1m101/101\u001b[0m \u001b[32m━━━━━━━━━━━━━━━━━━━━\u001b[0m\u001b[37m\u001b[0m \u001b[1m0s\u001b[0m 4ms/step - loss: 0.0137 - val_loss: 0.0130\n",
            "Epoch 11/100\n",
            "\u001b[1m101/101\u001b[0m \u001b[32m━━━━━━━━━━━━━━━━━━━━\u001b[0m\u001b[37m\u001b[0m \u001b[1m0s\u001b[0m 4ms/step - loss: 0.0135 - val_loss: 0.0129\n",
            "Epoch 12/100\n",
            "\u001b[1m101/101\u001b[0m \u001b[32m━━━━━━━━━━━━━━━━━━━━\u001b[0m\u001b[37m\u001b[0m \u001b[1m1s\u001b[0m 5ms/step - loss: 0.0133 - val_loss: 0.0127\n",
            "Epoch 13/100\n",
            "\u001b[1m101/101\u001b[0m \u001b[32m━━━━━━━━━━━━━━━━━━━━\u001b[0m\u001b[37m\u001b[0m \u001b[1m1s\u001b[0m 5ms/step - loss: 0.0131 - val_loss: 0.0125\n",
            "Epoch 14/100\n",
            "\u001b[1m101/101\u001b[0m \u001b[32m━━━━━━━━━━━━━━━━━━━━\u001b[0m\u001b[37m\u001b[0m \u001b[1m1s\u001b[0m 6ms/step - loss: 0.0129 - val_loss: 0.0123\n",
            "Epoch 15/100\n",
            "\u001b[1m101/101\u001b[0m \u001b[32m━━━━━━━━━━━━━━━━━━━━\u001b[0m\u001b[37m\u001b[0m \u001b[1m1s\u001b[0m 7ms/step - loss: 0.0127 - val_loss: 0.0122\n",
            "Epoch 16/100\n",
            "\u001b[1m101/101\u001b[0m \u001b[32m━━━━━━━━━━━━━━━━━━━━\u001b[0m\u001b[37m\u001b[0m \u001b[1m1s\u001b[0m 7ms/step - loss: 0.0125 - val_loss: 0.0120\n",
            "Epoch 17/100\n",
            "\u001b[1m101/101\u001b[0m \u001b[32m━━━━━━━━━━━━━━━━━━━━\u001b[0m\u001b[37m\u001b[0m \u001b[1m1s\u001b[0m 6ms/step - loss: 0.0124 - val_loss: 0.0118\n",
            "Epoch 18/100\n",
            "\u001b[1m101/101\u001b[0m \u001b[32m━━━━━━━━━━━━━━━━━━━━\u001b[0m\u001b[37m\u001b[0m \u001b[1m1s\u001b[0m 6ms/step - loss: 0.0122 - val_loss: 0.0116\n",
            "Epoch 19/100\n",
            "\u001b[1m101/101\u001b[0m \u001b[32m━━━━━━━━━━━━━━━━━━━━\u001b[0m\u001b[37m\u001b[0m \u001b[1m0s\u001b[0m 4ms/step - loss: 0.0120 - val_loss: 0.0114\n",
            "Epoch 20/100\n",
            "\u001b[1m101/101\u001b[0m \u001b[32m━━━━━━━━━━━━━━━━━━━━\u001b[0m\u001b[37m\u001b[0m \u001b[1m0s\u001b[0m 4ms/step - loss: 0.0118 - val_loss: 0.0111\n",
            "Epoch 21/100\n",
            "\u001b[1m101/101\u001b[0m \u001b[32m━━━━━━━━━━━━━━━━━━━━\u001b[0m\u001b[37m\u001b[0m \u001b[1m1s\u001b[0m 5ms/step - loss: 0.0116 - val_loss: 0.0110\n",
            "Epoch 22/100\n",
            "\u001b[1m101/101\u001b[0m \u001b[32m━━━━━━━━━━━━━━━━━━━━\u001b[0m\u001b[37m\u001b[0m \u001b[1m1s\u001b[0m 4ms/step - loss: 0.0115 - val_loss: 0.0108\n",
            "Epoch 23/100\n",
            "\u001b[1m101/101\u001b[0m \u001b[32m━━━━━━━━━━━━━━━━━━━━\u001b[0m\u001b[37m\u001b[0m \u001b[1m1s\u001b[0m 5ms/step - loss: 0.0113 - val_loss: 0.0106\n",
            "Epoch 24/100\n",
            "\u001b[1m101/101\u001b[0m \u001b[32m━━━━━━━━━━━━━━━━━━━━\u001b[0m\u001b[37m\u001b[0m \u001b[1m0s\u001b[0m 4ms/step - loss: 0.0112 - val_loss: 0.0105\n",
            "Epoch 25/100\n",
            "\u001b[1m101/101\u001b[0m \u001b[32m━━━━━━━━━━━━━━━━━━━━\u001b[0m\u001b[37m\u001b[0m \u001b[1m0s\u001b[0m 4ms/step - loss: 0.0110 - val_loss: 0.0103\n",
            "Epoch 26/100\n",
            "\u001b[1m101/101\u001b[0m \u001b[32m━━━━━━━━━━━━━━━━━━━━\u001b[0m\u001b[37m\u001b[0m \u001b[1m1s\u001b[0m 4ms/step - loss: 0.0109 - val_loss: 0.0101\n",
            "Epoch 27/100\n",
            "\u001b[1m101/101\u001b[0m \u001b[32m━━━━━━━━━━━━━━━━━━━━\u001b[0m\u001b[37m\u001b[0m \u001b[1m1s\u001b[0m 5ms/step - loss: 0.0107 - val_loss: 0.0100\n",
            "Epoch 28/100\n",
            "\u001b[1m101/101\u001b[0m \u001b[32m━━━━━━━━━━━━━━━━━━━━\u001b[0m\u001b[37m\u001b[0m \u001b[1m1s\u001b[0m 4ms/step - loss: 0.0106 - val_loss: 0.0099\n",
            "Epoch 29/100\n",
            "\u001b[1m101/101\u001b[0m \u001b[32m━━━━━━━━━━━━━━━━━━━━\u001b[0m\u001b[37m\u001b[0m \u001b[1m1s\u001b[0m 4ms/step - loss: 0.0105 - val_loss: 0.0099\n",
            "Epoch 30/100\n",
            "\u001b[1m101/101\u001b[0m \u001b[32m━━━━━━━━━━━━━━━━━━━━\u001b[0m\u001b[37m\u001b[0m \u001b[1m1s\u001b[0m 4ms/step - loss: 0.0104 - val_loss: 0.0098\n",
            "Epoch 31/100\n",
            "\u001b[1m101/101\u001b[0m \u001b[32m━━━━━━━━━━━━━━━━━━━━\u001b[0m\u001b[37m\u001b[0m \u001b[1m1s\u001b[0m 5ms/step - loss: 0.0104 - val_loss: 0.0097\n",
            "Epoch 32/100\n",
            "\u001b[1m101/101\u001b[0m \u001b[32m━━━━━━━━━━━━━━━━━━━━\u001b[0m\u001b[37m\u001b[0m \u001b[1m1s\u001b[0m 5ms/step - loss: 0.0102 - val_loss: 0.0097\n",
            "Epoch 33/100\n",
            "\u001b[1m101/101\u001b[0m \u001b[32m━━━━━━━━━━━━━━━━━━━━\u001b[0m\u001b[37m\u001b[0m \u001b[1m0s\u001b[0m 4ms/step - loss: 0.0102 - val_loss: 0.0096\n",
            "Epoch 34/100\n",
            "\u001b[1m101/101\u001b[0m \u001b[32m━━━━━━━━━━━━━━━━━━━━\u001b[0m\u001b[37m\u001b[0m \u001b[1m1s\u001b[0m 5ms/step - loss: 0.0102 - val_loss: 0.0096\n",
            "Epoch 35/100\n",
            "\u001b[1m101/101\u001b[0m \u001b[32m━━━━━━━━━━━━━━━━━━━━\u001b[0m\u001b[37m\u001b[0m \u001b[1m1s\u001b[0m 4ms/step - loss: 0.0101 - val_loss: 0.0095\n",
            "Epoch 36/100\n",
            "\u001b[1m101/101\u001b[0m \u001b[32m━━━━━━━━━━━━━━━━━━━━\u001b[0m\u001b[37m\u001b[0m \u001b[1m0s\u001b[0m 4ms/step - loss: 0.0100 - val_loss: 0.0095\n",
            "Epoch 37/100\n",
            "\u001b[1m101/101\u001b[0m \u001b[32m━━━━━━━━━━━━━━━━━━━━\u001b[0m\u001b[37m\u001b[0m \u001b[1m1s\u001b[0m 6ms/step - loss: 0.0100 - val_loss: 0.0094\n",
            "Epoch 38/100\n",
            "\u001b[1m101/101\u001b[0m \u001b[32m━━━━━━━━━━━━━━━━━━━━\u001b[0m\u001b[37m\u001b[0m \u001b[1m1s\u001b[0m 6ms/step - loss: 0.0100 - val_loss: 0.0094\n",
            "Epoch 39/100\n",
            "\u001b[1m101/101\u001b[0m \u001b[32m━━━━━━━━━━━━━━━━━━━━\u001b[0m\u001b[37m\u001b[0m \u001b[1m1s\u001b[0m 5ms/step - loss: 0.0099 - val_loss: 0.0093\n",
            "Epoch 40/100\n",
            "\u001b[1m101/101\u001b[0m \u001b[32m━━━━━━━━━━━━━━━━━━━━\u001b[0m\u001b[37m\u001b[0m \u001b[1m1s\u001b[0m 5ms/step - loss: 0.0098 - val_loss: 0.0093\n",
            "Epoch 41/100\n",
            "\u001b[1m101/101\u001b[0m \u001b[32m━━━━━━━━━━━━━━━━━━━━\u001b[0m\u001b[37m\u001b[0m \u001b[1m1s\u001b[0m 6ms/step - loss: 0.0098 - val_loss: 0.0092\n",
            "Epoch 42/100\n",
            "\u001b[1m101/101\u001b[0m \u001b[32m━━━━━━━━━━━━━━━━━━━━\u001b[0m\u001b[37m\u001b[0m \u001b[1m1s\u001b[0m 5ms/step - loss: 0.0098 - val_loss: 0.0092\n",
            "Epoch 43/100\n",
            "\u001b[1m101/101\u001b[0m \u001b[32m━━━━━━━━━━━━━━━━━━━━\u001b[0m\u001b[37m\u001b[0m \u001b[1m0s\u001b[0m 4ms/step - loss: 0.0097 - val_loss: 0.0091\n",
            "Epoch 44/100\n",
            "\u001b[1m101/101\u001b[0m \u001b[32m━━━━━━━━━━━━━━━━━━━━\u001b[0m\u001b[37m\u001b[0m \u001b[1m0s\u001b[0m 4ms/step - loss: 0.0097 - val_loss: 0.0091\n",
            "Epoch 45/100\n",
            "\u001b[1m101/101\u001b[0m \u001b[32m━━━━━━━━━━━━━━━━━━━━\u001b[0m\u001b[37m\u001b[0m \u001b[1m1s\u001b[0m 4ms/step - loss: 0.0096 - val_loss: 0.0091\n",
            "Epoch 46/100\n",
            "\u001b[1m101/101\u001b[0m \u001b[32m━━━━━━━━━━━━━━━━━━━━\u001b[0m\u001b[37m\u001b[0m \u001b[1m0s\u001b[0m 4ms/step - loss: 0.0095 - val_loss: 0.0090\n",
            "Epoch 47/100\n",
            "\u001b[1m101/101\u001b[0m \u001b[32m━━━━━━━━━━━━━━━━━━━━\u001b[0m\u001b[37m\u001b[0m \u001b[1m1s\u001b[0m 5ms/step - loss: 0.0095 - val_loss: 0.0089\n",
            "Epoch 48/100\n",
            "\u001b[1m101/101\u001b[0m \u001b[32m━━━━━━━━━━━━━━━━━━━━\u001b[0m\u001b[37m\u001b[0m \u001b[1m0s\u001b[0m 4ms/step - loss: 0.0095 - val_loss: 0.0089\n",
            "Epoch 49/100\n",
            "\u001b[1m101/101\u001b[0m \u001b[32m━━━━━━━━━━━━━━━━━━━━\u001b[0m\u001b[37m\u001b[0m \u001b[1m1s\u001b[0m 4ms/step - loss: 0.0094 - val_loss: 0.0088\n",
            "Epoch 50/100\n",
            "\u001b[1m101/101\u001b[0m \u001b[32m━━━━━━━━━━━━━━━━━━━━\u001b[0m\u001b[37m\u001b[0m \u001b[1m0s\u001b[0m 4ms/step - loss: 0.0093 - val_loss: 0.0087\n",
            "Epoch 51/100\n",
            "\u001b[1m101/101\u001b[0m \u001b[32m━━━━━━━━━━━━━━━━━━━━\u001b[0m\u001b[37m\u001b[0m \u001b[1m1s\u001b[0m 4ms/step - loss: 0.0093 - val_loss: 0.0087\n",
            "Epoch 52/100\n",
            "\u001b[1m101/101\u001b[0m \u001b[32m━━━━━━━━━━━━━━━━━━━━\u001b[0m\u001b[37m\u001b[0m \u001b[1m1s\u001b[0m 5ms/step - loss: 0.0092 - val_loss: 0.0086\n",
            "Epoch 53/100\n",
            "\u001b[1m101/101\u001b[0m \u001b[32m━━━━━━━━━━━━━━━━━━━━\u001b[0m\u001b[37m\u001b[0m \u001b[1m1s\u001b[0m 5ms/step - loss: 0.0092 - val_loss: 0.0085\n",
            "Epoch 54/100\n",
            "\u001b[1m101/101\u001b[0m \u001b[32m━━━━━━━━━━━━━━━━━━━━\u001b[0m\u001b[37m\u001b[0m \u001b[1m1s\u001b[0m 4ms/step - loss: 0.0092 - val_loss: 0.0085\n",
            "Epoch 55/100\n",
            "\u001b[1m101/101\u001b[0m \u001b[32m━━━━━━━━━━━━━━━━━━━━\u001b[0m\u001b[37m\u001b[0m \u001b[1m1s\u001b[0m 4ms/step - loss: 0.0091 - val_loss: 0.0084\n",
            "Epoch 56/100\n",
            "\u001b[1m101/101\u001b[0m \u001b[32m━━━━━━━━━━━━━━━━━━━━\u001b[0m\u001b[37m\u001b[0m \u001b[1m0s\u001b[0m 4ms/step - loss: 0.0090 - val_loss: 0.0083\n",
            "Epoch 57/100\n",
            "\u001b[1m101/101\u001b[0m \u001b[32m━━━━━━━━━━━━━━━━━━━━\u001b[0m\u001b[37m\u001b[0m \u001b[1m1s\u001b[0m 6ms/step - loss: 0.0090 - val_loss: 0.0083\n",
            "Epoch 58/100\n",
            "\u001b[1m101/101\u001b[0m \u001b[32m━━━━━━━━━━━━━━━━━━━━\u001b[0m\u001b[37m\u001b[0m \u001b[1m1s\u001b[0m 7ms/step - loss: 0.0089 - val_loss: 0.0082\n",
            "Epoch 59/100\n",
            "\u001b[1m101/101\u001b[0m \u001b[32m━━━━━━━━━━━━━━━━━━━━\u001b[0m\u001b[37m\u001b[0m \u001b[1m1s\u001b[0m 7ms/step - loss: 0.0088 - val_loss: 0.0082\n",
            "Epoch 60/100\n",
            "\u001b[1m101/101\u001b[0m \u001b[32m━━━━━━━━━━━━━━━━━━━━\u001b[0m\u001b[37m\u001b[0m \u001b[1m1s\u001b[0m 4ms/step - loss: 0.0088 - val_loss: 0.0082\n",
            "Epoch 61/100\n",
            "\u001b[1m101/101\u001b[0m \u001b[32m━━━━━━━━━━━━━━━━━━━━\u001b[0m\u001b[37m\u001b[0m \u001b[1m1s\u001b[0m 4ms/step - loss: 0.0088 - val_loss: 0.0081\n",
            "Epoch 62/100\n",
            "\u001b[1m101/101\u001b[0m \u001b[32m━━━━━━━━━━━━━━━━━━━━\u001b[0m\u001b[37m\u001b[0m \u001b[1m1s\u001b[0m 5ms/step - loss: 0.0087 - val_loss: 0.0081\n",
            "Epoch 63/100\n",
            "\u001b[1m101/101\u001b[0m \u001b[32m━━━━━━━━━━━━━━━━━━━━\u001b[0m\u001b[37m\u001b[0m \u001b[1m1s\u001b[0m 6ms/step - loss: 0.0087 - val_loss: 0.0080\n",
            "Epoch 64/100\n",
            "\u001b[1m101/101\u001b[0m \u001b[32m━━━━━━━━━━━━━━━━━━━━\u001b[0m\u001b[37m\u001b[0m \u001b[1m1s\u001b[0m 5ms/step - loss: 0.0087 - val_loss: 0.0080\n",
            "Epoch 65/100\n",
            "\u001b[1m101/101\u001b[0m \u001b[32m━━━━━━━━━━━━━━━━━━━━\u001b[0m\u001b[37m\u001b[0m \u001b[1m1s\u001b[0m 4ms/step - loss: 0.0086 - val_loss: 0.0080\n",
            "Epoch 66/100\n",
            "\u001b[1m101/101\u001b[0m \u001b[32m━━━━━━━━━━━━━━━━━━━━\u001b[0m\u001b[37m\u001b[0m \u001b[1m0s\u001b[0m 4ms/step - loss: 0.0086 - val_loss: 0.0079\n",
            "Epoch 67/100\n",
            "\u001b[1m101/101\u001b[0m \u001b[32m━━━━━━━━━━━━━━━━━━━━\u001b[0m\u001b[37m\u001b[0m \u001b[1m1s\u001b[0m 5ms/step - loss: 0.0085 - val_loss: 0.0079\n",
            "Epoch 68/100\n",
            "\u001b[1m101/101\u001b[0m \u001b[32m━━━━━━━━━━━━━━━━━━━━\u001b[0m\u001b[37m\u001b[0m \u001b[1m1s\u001b[0m 6ms/step - loss: 0.0085 - val_loss: 0.0079\n",
            "Epoch 69/100\n",
            "\u001b[1m101/101\u001b[0m \u001b[32m━━━━━━━━━━━━━━━━━━━━\u001b[0m\u001b[37m\u001b[0m \u001b[1m0s\u001b[0m 4ms/step - loss: 0.0085 - val_loss: 0.0078\n",
            "Epoch 70/100\n",
            "\u001b[1m101/101\u001b[0m \u001b[32m━━━━━━━━━━━━━━━━━━━━\u001b[0m\u001b[37m\u001b[0m \u001b[1m0s\u001b[0m 4ms/step - loss: 0.0085 - val_loss: 0.0078\n",
            "Epoch 71/100\n",
            "\u001b[1m101/101\u001b[0m \u001b[32m━━━━━━━━━━━━━━━━━━━━\u001b[0m\u001b[37m\u001b[0m \u001b[1m1s\u001b[0m 4ms/step - loss: 0.0084 - val_loss: 0.0078\n",
            "Epoch 72/100\n",
            "\u001b[1m101/101\u001b[0m \u001b[32m━━━━━━━━━━━━━━━━━━━━\u001b[0m\u001b[37m\u001b[0m \u001b[1m1s\u001b[0m 4ms/step - loss: 0.0084 - val_loss: 0.0078\n",
            "Epoch 73/100\n",
            "\u001b[1m101/101\u001b[0m \u001b[32m━━━━━━━━━━━━━━━━━━━━\u001b[0m\u001b[37m\u001b[0m \u001b[1m0s\u001b[0m 4ms/step - loss: 0.0084 - val_loss: 0.0078\n",
            "Epoch 74/100\n",
            "\u001b[1m101/101\u001b[0m \u001b[32m━━━━━━━━━━━━━━━━━━━━\u001b[0m\u001b[37m\u001b[0m \u001b[1m1s\u001b[0m 7ms/step - loss: 0.0084 - val_loss: 0.0077\n",
            "Epoch 75/100\n",
            "\u001b[1m101/101\u001b[0m \u001b[32m━━━━━━━━━━━━━━━━━━━━\u001b[0m\u001b[37m\u001b[0m \u001b[1m0s\u001b[0m 4ms/step - loss: 0.0084 - val_loss: 0.0077\n",
            "Epoch 76/100\n",
            "\u001b[1m101/101\u001b[0m \u001b[32m━━━━━━━━━━━━━━━━━━━━\u001b[0m\u001b[37m\u001b[0m \u001b[1m2s\u001b[0m 15ms/step - loss: 0.0084 - val_loss: 0.0077\n",
            "Epoch 77/100\n",
            "\u001b[1m101/101\u001b[0m \u001b[32m━━━━━━━━━━━━━━━━━━━━\u001b[0m\u001b[37m\u001b[0m \u001b[1m2s\u001b[0m 4ms/step - loss: 0.0083 - val_loss: 0.0077\n",
            "Epoch 78/100\n",
            "\u001b[1m101/101\u001b[0m \u001b[32m━━━━━━━━━━━━━━━━━━━━\u001b[0m\u001b[37m\u001b[0m \u001b[1m1s\u001b[0m 5ms/step - loss: 0.0083 - val_loss: 0.0077\n",
            "Epoch 79/100\n",
            "\u001b[1m101/101\u001b[0m \u001b[32m━━━━━━━━━━━━━━━━━━━━\u001b[0m\u001b[37m\u001b[0m \u001b[1m1s\u001b[0m 4ms/step - loss: 0.0083 - val_loss: 0.0076\n",
            "Epoch 80/100\n",
            "\u001b[1m101/101\u001b[0m \u001b[32m━━━━━━━━━━━━━━━━━━━━\u001b[0m\u001b[37m\u001b[0m \u001b[1m1s\u001b[0m 5ms/step - loss: 0.0082 - val_loss: 0.0076\n",
            "Epoch 81/100\n",
            "\u001b[1m101/101\u001b[0m \u001b[32m━━━━━━━━━━━━━━━━━━━━\u001b[0m\u001b[37m\u001b[0m \u001b[1m1s\u001b[0m 5ms/step - loss: 0.0082 - val_loss: 0.0076\n",
            "Epoch 82/100\n",
            "\u001b[1m101/101\u001b[0m \u001b[32m━━━━━━━━━━━━━━━━━━━━\u001b[0m\u001b[37m\u001b[0m \u001b[1m1s\u001b[0m 6ms/step - loss: 0.0082 - val_loss: 0.0076\n"
          ]
        }
      ]
    },
    {
      "cell_type": "code",
      "source": [
        "# Plot training history\n",
        "plt.plot(history.history['loss'], label='Training Loss')\n",
        "plt.plot(history.history['val_loss'], label='Validation Loss')\n",
        "plt.title('Autoencoder Training Loss')\n",
        "plt.xlabel('Epoch')\n",
        "plt.ylabel('Loss')\n",
        "plt.legend()\n",
        "plt.show()"
      ],
      "metadata": {
        "colab": {
          "base_uri": "https://localhost:8080/",
          "height": 472
        },
        "id": "kFarVPtEy274",
        "outputId": "823b2598-df38-41e9-d639-d3bc0e5d52e9"
      },
      "execution_count": null,
      "outputs": [
        {
          "output_type": "display_data",
          "data": {
            "text/plain": [
              "<Figure size 640x480 with 1 Axes>"
            ],
            "image/png": "[encoded data removed]"
          },
          "metadata": {}
        }
      ]
    },
    {
      "cell_type": "markdown",
      "source": [
        "Visualize training and validation loss over epochs to confirm the model is learning (decreasing loss) and not overfitting (similar training/validation loss)."
      ],
      "metadata": {
        "id": "gQbpOe0ov8Po"
      }
    },
    {
      "cell_type": "markdown",
      "source": [
        "# Step 4: Anomaly Detection"
      ],
      "metadata": {
        "id": "Nyel6py-zBTY"
      }
    },
    {
      "cell_type": "code",
      "source": [
        "reconstructions = autoencoder.predict(X)\n",
        "mse = np.mean(np.square(X - reconstructions), axis=1)"
      ],
      "metadata": {
        "colab": {
          "base_uri": "https://localhost:8080/"
        },
        "id": "Ss5x17l6zFqL",
        "outputId": "f4a16d7f-0371-4bec-bbac-1bbad7db4697"
      },
      "execution_count": null,
      "outputs": [
        {
          "output_type": "stream",
          "name": "stdout",
          "text": [
            "\u001b[1m126/126\u001b[0m \u001b[32m━━━━━━━━━━━━━━━━━━━━\u001b[0m\u001b[37m\u001b[0m \u001b[1m1s\u001b[0m 3ms/step\n"
          ]
        }
      ]
    },
    {
      "cell_type": "code",
      "source": [
        "# Debug: Compute MSE for different feature groups\n",
        "mse_numerical = np.mean(np.square(X[:, df_processed.columns.isin(numerical_features)] -\n",
        "                                  reconstructions[:, df_processed.columns.isin(numerical_features)]), axis=1)\n",
        "mse_terms = np.mean(np.square(X[:, df_processed.columns == 'Terms_of_Interest_Encoded'] -\n",
        "                              reconstructions[:, df_processed.columns == 'Terms_of_Interest_Encoded']), axis=1)\n",
        "mse_binary = np.mean(np.square(X[:, df_processed.columns.isin(binary_features)] -\n",
        "                               reconstructions[:, df_processed.columns.isin(binary_features)]), axis=1)\n",
        "\n",
        "print(\"Mean MSE for Numerical Features:\", mse_numerical.mean())\n",
        "print(\"Mean MSE for Terms_of_Interest_Encoded:\", mse_terms.mean())\n",
        "print(\"Mean MSE for Binary Features:\", mse_binary.mean())"
      ],
      "metadata": {
        "colab": {
          "base_uri": "https://localhost:8080/"
        },
        "id": "kJrGM19UzQD9",
        "outputId": "6d258530-74ee-4908-8bc2-42b31bc37eec"
      },
      "execution_count": null,
      "outputs": [
        {
          "output_type": "stream",
          "name": "stdout",
          "text": [
            "Mean MSE for Numerical Features: 0.0065581026\n",
            "Mean MSE for Terms_of_Interest_Encoded: 0.035259835\n",
            "Mean MSE for Binary Features: 0.007241519\n"
          ]
        }
      ]
    },
    {
      "cell_type": "code",
      "source": [
        "threshold = np.percentile(mse, 95)\n",
        "anomalies = mse > threshold\n",
        "\n",
        "df['Reconstruction_Error'] = mse\n",
        "df['Is_Anomaly'] = anomalies"
      ],
      "metadata": {
        "colab": {
          "base_uri": "https://localhost:8080/"
        },
        "id": "DE9D9pbOzZ3W",
        "outputId": "8d8e4722-d160-42f0-92c9-aeb669a279ae"
      },
      "execution_count": null,
      "outputs": [
        {
          "output_type": "stream",
          "name": "stderr",
          "text": [
            "<ipython-input-28-dc7d0878b739>:4: SettingWithCopyWarning: \n",
            "A value is trying to be set on a copy of a slice from a DataFrame.\n",
            "Try using .loc[row_indexer,col_indexer] = value instead\n",
            "\n",
            "See the caveats in the documentation: https://pandas.pydata.org/pandas-docs/stable/user_guide/indexing.html#returning-a-view-versus-a-copy\n",
            "  df['Reconstruction_Error'] = mse\n",
            "<ipython-input-28-dc7d0878b739>:5: SettingWithCopyWarning: \n",
            "A value is trying to be set on a copy of a slice from a DataFrame.\n",
            "Try using .loc[row_indexer,col_indexer] = value instead\n",
            "\n",
            "See the caveats in the documentation: https://pandas.pydata.org/pandas-docs/stable/user_guide/indexing.html#returning-a-view-versus-a-copy\n",
            "  df['Is_Anomaly'] = anomalies\n"
          ]
        }
      ]
    },
    {
      "cell_type": "markdown",
      "source": [
        "**Interpretation:**\n",
        "\n",
        "**Numerical Features:** The low MSE (0.0066) indicates that the autoencoder reconstructs numerical features well for most records. This suggests that most records have numerical values (e.g., investment amounts) that align with the learned patterns.\n",
        "\n",
        "**Terms_of_Interest_Encoded:** The highest MSE (0.0353) indicates that the autoencoder struggles to reconstruct this feature. This could be due to a high variability in Terms_of_Interest (e.g., many unique terms or rare terms like \"42.415% ownership\"), which makes it harder for the autoencoder to learn consistent patterns.\n",
        "\n",
        "**Binary Features:** The MSE (0.0072) is slightly higher than for numerical features but lower than for Terms_of_Interest_Encoded. This suggests that binary features (e.g., one-hot encoded specialties) are generally well-reconstructed, but some records with rare specialties or states might contribute to higher errors."
      ],
      "metadata": {
        "id": "zyEeVmZ32EQz"
      }
    },
    {
      "cell_type": "markdown",
      "source": [
        "# Step 5: Analyze Anomalies with Insights"
      ],
      "metadata": {
        "id": "QqyQSwuCzfv2"
      }
    },
    {
      "cell_type": "code",
      "source": [
        "top_anomalies = df[df['Is_Anomaly']].sort_values('Reconstruction_Error', ascending=False).head(10)\n",
        "print(\"Top 10 Anomalies:\")\n",
        "print(top_anomalies[['Physician_First_Name', 'Physician_Last_Name', 'Record_ID',\n",
        "                    'Total_Amount_Invested_USDollars', 'Value_of_Interest',\n",
        "                    'Terms_of_Interest', 'Physician_Specialty', 'Reconstruction_Error']])"
      ],
      "metadata": {
        "colab": {
          "base_uri": "https://localhost:8080/"
        },
        "id": "NdnLY0m6zhC9",
        "outputId": "2465322b-a548-435f-cb38-bf537f127d31"
      },
      "execution_count": null,
      "outputs": [
        {
          "output_type": "stream",
          "name": "stdout",
          "text": [
            "Top 10 Anomalies:\n",
            "     Physician_First_Name Physician_Last_Name   Record_ID  \\\n",
            "1554              Charles              Goodis  1059412725   \n",
            "3423               Thomas               Bleck  1059882075   \n",
            "3721                MEHDI           ANSARINIA  1057045685   \n",
            "3791               Warren              Willis   969389885   \n",
            "1100               Albert            Zickmann  1013518349   \n",
            "3796               EDWARD             GELMANN  1059221991   \n",
            "1747                MEHDI           ANSARINIA  1057045673   \n",
            "652               JEFFREY            LAWRENCE  1060667525   \n",
            "3567             LAWRENCE               YOUNG  1060667627   \n",
            "543                Martha               Stark  1052178035   \n",
            "\n",
            "      Total_Amount_Invested_USDollars  Value_of_Interest  \\\n",
            "1554                       3580063.57        15939184.20   \n",
            "3423                         11600.00           60600.00   \n",
            "3721                        181150.00         7145000.00   \n",
            "3791                          2500.00         5100000.00   \n",
            "1100                         25000.00         4422061.22   \n",
            "3796                        946498.00          890357.20   \n",
            "1747                        120000.00          712000.00   \n",
            "652                              8.01          320400.00   \n",
            "3567                             8.01          560700.00   \n",
            "543                        1623989.00          726210.00   \n",
            "\n",
            "                                      Terms_of_Interest  \\\n",
            "1554                                  42.415% ownership   \n",
            "3423                                              Stock   \n",
            "3721                                      1,646 A Units   \n",
            "3791                                             49.50%   \n",
            "1100  Blue Sky Bio is a closely held company and has...   \n",
            "3796  ownership interest transferred to HCP as part ...   \n",
            "1747                                        400 A Units   \n",
            "652                                       Common Shares   \n",
            "3567                                      Common Shares   \n",
            "543                                              shares   \n",
            "\n",
            "                                    Physician_Specialty  Reconstruction_Error  \n",
            "1554               Dental Providers|Dentist|Endodontics              0.017924  \n",
            "3423  Allopathic & Osteopathic Physicians|Psychiatry...              0.017741  \n",
            "3721  Allopathic & Osteopathic Physicians|General Pr...              0.017697  \n",
            "3791          Dental Providers|Dentist|General Practice              0.017384  \n",
            "1100  Dental Providers|Dentist|Oral and Maxillofacia...              0.017151  \n",
            "3796  Allopathic & Osteopathic Physicians|Internal M...              0.016935  \n",
            "1747  Allopathic & Osteopathic Physicians|General Pr...              0.016870  \n",
            "652   Allopathic & Osteopathic Physicians|Orthopaedi...              0.016709  \n",
            "3567  Allopathic & Osteopathic Physicians|Anesthesio...              0.016699  \n",
            "543   Allopathic & Osteopathic Physicians|Psychiatry...              0.016662  \n"
          ]
        }
      ]
    },
    {
      "cell_type": "code",
      "source": [
        "print(\"\\nInsights into Anomalies (Inspired by Medium Article):\")\n",
        "for idx, row in top_anomalies.iterrows():\n",
        "    print(f\"\\nPhysician: {row['Physician_First_Name']} {row['Physician_Last_Name']} (Record_ID: {row['Record_ID']})\")\n",
        "    print(f\"Total Invested: ${row['Total_Amount_Invested_USDollars']}, Value of Interest: ${row['Value_of_Interest']}\")\n",
        "    print(f\"Specialty: {row['Physician_Specialty']}\")\n",
        "    print(f\"Terms: {row['Terms_of_Interest']}\")\n",
        "    print(f\"Reconstruction Error: {row['Reconstruction_Error']:.4f}\")\n",
        "\n",
        "    if row['Total_Amount_Invested_USDollars'] == 0 and row['Value_of_Interest'] > 100000:\n",
        "        print(\"Insight: High reconstruction error due to zero investment with large value, deviating from typical patterns.\")\n",
        "    elif row['Value_of_Interest'] > df['Value_of_Interest'].quantile(0.99):\n",
        "        print(\"Insight: Extreme value of interest is rare, causing poor reconstruction.\")\n",
        "    elif 'Stock' not in str(row['Terms_of_Interest']) and row['Value_of_Interest'] > 10000:\n",
        "        print(\"Insight: Unusual terms with significant value differ from common stock patterns.\")"
      ],
      "metadata": {
        "colab": {
          "base_uri": "https://localhost:8080/"
        },
        "id": "1-EDmIdxzqMn",
        "outputId": "13b28e7c-c740-43b4-e440-a12a1cc4e197"
      },
      "execution_count": null,
      "outputs": [
        {
          "output_type": "stream",
          "name": "stdout",
          "text": [
            "\n",
            "Insights into Anomalies (Inspired by Medium Article):\n",
            "\n",
            "Physician: Charles Goodis (Record_ID: 1059412725)\n",
            "Total Invested: $3580063.57, Value of Interest: $15939184.2\n",
            "Specialty: Dental Providers|Dentist|Endodontics\n",
            "Terms: 42.415% ownership\n",
            "Reconstruction Error: 0.0179\n",
            "Insight: Extreme value of interest is rare, causing poor reconstruction.\n",
            "\n",
            "Physician: Thomas Bleck (Record_ID: 1059882075)\n",
            "Total Invested: $11600.0, Value of Interest: $60600.0\n",
            "Specialty: Allopathic & Osteopathic Physicians|Psychiatry & Neurology|Neurocritical Care\n",
            "Terms: Stock\n",
            "Reconstruction Error: 0.0177\n",
            "\n",
            "Physician: MEHDI ANSARINIA (Record_ID: 1057045685)\n",
            "Total Invested: $181150.0, Value of Interest: $7145000.0\n",
            "Specialty: Allopathic & Osteopathic Physicians|General Practice\n",
            "Terms: 1,646 A Units\n",
            "Reconstruction Error: 0.0177\n",
            "Insight: Extreme value of interest is rare, causing poor reconstruction.\n",
            "\n",
            "Physician: Warren Willis (Record_ID: 969389885)\n",
            "Total Invested: $2500.0, Value of Interest: $5100000.0\n",
            "Specialty: Dental Providers|Dentist|General Practice\n",
            "Terms: 49.50%\n",
            "Reconstruction Error: 0.0174\n",
            "Insight: Extreme value of interest is rare, causing poor reconstruction.\n",
            "\n",
            "Physician: Albert Zickmann (Record_ID: 1013518349)\n",
            "Total Invested: $25000.0, Value of Interest: $4422061.22\n",
            "Specialty: Dental Providers|Dentist|Oral and Maxillofacial Surgery\n",
            "Terms: Blue Sky Bio is a closely held company and has no market for it's ownership interests.\n",
            "Reconstruction Error: 0.0172\n",
            "Insight: Extreme value of interest is rare, causing poor reconstruction.\n",
            "\n",
            "Physician: EDWARD GELMANN (Record_ID: 1059221991)\n",
            "Total Invested: $946498.0, Value of Interest: $890357.2\n",
            "Specialty: Allopathic & Osteopathic Physicians|Internal Medicine|Medical Oncology\n",
            "Terms: ownership interest transferred to HCP as part of terms of acquisition\n",
            "Reconstruction Error: 0.0169\n",
            "Insight: Unusual terms with significant value differ from common stock patterns.\n",
            "\n",
            "Physician: MEHDI ANSARINIA (Record_ID: 1057045673)\n",
            "Total Invested: $120000.0, Value of Interest: $712000.0\n",
            "Specialty: Allopathic & Osteopathic Physicians|General Practice\n",
            "Terms: 400 A Units\n",
            "Reconstruction Error: 0.0169\n",
            "Insight: Unusual terms with significant value differ from common stock patterns.\n",
            "\n",
            "Physician: JEFFREY LAWRENCE (Record_ID: 1060667525)\n",
            "Total Invested: $8.01, Value of Interest: $320400.0\n",
            "Specialty: Allopathic & Osteopathic Physicians|Orthopaedic Surgery|Sports Medicine\n",
            "Terms: Common Shares\n",
            "Reconstruction Error: 0.0167\n",
            "Insight: Unusual terms with significant value differ from common stock patterns.\n",
            "\n",
            "Physician: LAWRENCE YOUNG (Record_ID: 1060667627)\n",
            "Total Invested: $8.01, Value of Interest: $560700.0\n",
            "Specialty: Allopathic & Osteopathic Physicians|Anesthesiology\n",
            "Terms: Common Shares\n",
            "Reconstruction Error: 0.0167\n",
            "Insight: Unusual terms with significant value differ from common stock patterns.\n",
            "\n",
            "Physician: Martha Stark (Record_ID: 1052178035)\n",
            "Total Invested: $1623989.0, Value of Interest: $726210.0\n",
            "Specialty: Allopathic & Osteopathic Physicians|Psychiatry & Neurology|Psychiatry\n",
            "Terms: shares\n",
            "Reconstruction Error: 0.0167\n",
            "Insight: Unusual terms with significant value differ from common stock patterns.\n"
          ]
        }
      ]
    },
    {
      "cell_type": "markdown",
      "source": [
        "**Insights into Anomalies:**\n",
        "\n",
        "**Josef Parvizi:** Flagged because the Value_of_Interest ($6,285,810.75) exceeds the 99th percentile, making it a rare outlier. The autoencoder couldn’t reconstruct this record well, as it deviates from typical patterns.\n",
        "\n",
        "**Babak Baravarian:** Not flagged by the specific insight conditions (e.g., Value_of_Interest isn’t above the 99th percentile, and terms include \"Stock\"). The high reconstruction error might be due to the Podiatric Medicine specialty being rare or the specific combination of features.\n",
        "\n",
        "**David Lewallen and Others:** Flagged due to the extremely high Value_of_Interest ($8,481,386.3), which exceeds the 99th percentile. The NaN investment (imputed as the mean) might also contribute to the error, as the autoencoder likely learned that high values are associated with non-zero investments."
      ],
      "metadata": {
        "id": "OmfQ3xq61n3V"
      }
    },
    {
      "cell_type": "markdown",
      "source": [
        "## Visualize error distribution"
      ],
      "metadata": {
        "id": "lObD_USQ0B5a"
      }
    },
    {
      "cell_type": "code",
      "source": [
        "plt.hist(mse, bins=50, log=True)\n",
        "plt.axvline(threshold, color='r', linestyle='--', label='Anomaly Threshold')\n",
        "plt.title('Reconstruction Error Distribution')\n",
        "plt.xlabel('Reconstruction Error')\n",
        "plt.ylabel('Frequency (Log Scale)')\n",
        "plt.legend()\n",
        "plt.show()"
      ],
      "metadata": {
        "colab": {
          "base_uri": "https://localhost:8080/",
          "height": 472
        },
        "id": "9h2o3aHjzwaV",
        "outputId": "2fab8d3f-2acb-4aa7-8ab2-2cb18c512526"
      },
      "execution_count": null,
      "outputs": [
        {
          "output_type": "display_data",
          "data": {
            "text/plain": [
              "<Figure size 640x480 with 1 Axes>"
            ],
            "image/png": "[encoded data removed]"
          },
          "metadata": {}
        }
      ]
    },
    {
      "cell_type": "markdown",
      "source": [
        "This step visualizes the distribution of reconstruction errors to confirm the threshold choice and understand the separation between normal and anomalous records.\n",
        "\n",
        "**Histogram of Reconstruction Errors:**\n",
        "\n",
        "**Interpretation:**\n",
        "\n",
        "The distribution is likely right-skewed, with most records having low MSE (e.g., around 0.0076, matching the final validation loss from Page 5).\n",
        "A long tail on the right represents the anomalies, with MSE values extending to 0.145 (the highest error in the top 10 anomalies).\n",
        "The log scale on the y-axis helps visualize the distribution, as the number of records with high errors (e.g., >0.03) is small compared to those with low errors.\n",
        "\n",
        "**Meaning:** Most records are well-reconstructed (low MSE), indicating they fit the \"normal\" patterns learned by the autoencoder. The tail of high errors corresponds to the anomalies identified in Step 4, such as Josef Parvizi (MSE 0.144982).\n",
        "\n",
        "**Threshold Line:**\n",
        "The red dashed line at the 95th percentile threshold (likely around 0.03) separates the top 5% of records (anomalies) from the rest.\n",
        "Interpretation: Records to the right of the threshold are flagged as anomalies. The threshold choice ensures that only the most extreme deviations are flagged, aligning with the Medium article’s recommendation to focus on outliers."
      ],
      "metadata": {
        "id": "Fzz8QzrH2XFZ"
      }
    }
  ]
}